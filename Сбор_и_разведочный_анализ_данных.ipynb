{
  "nbformat": 4,
  "nbformat_minor": 0,
  "metadata": {
    "colab": {
      "name": "Сбор и разведочный анализ данных.ipynb",
      "provenance": [],
      "private_outputs": true,
      "collapsed_sections": []
    },
    "kernelspec": {
      "name": "python3",
      "display_name": "Python 3"
    }
  },
  "cells": [
    {
      "cell_type": "code",
      "metadata": {
        "id": "mAnJJBPApCoy"
      },
      "source": [
        "import numpy as np\n",
        "import pandas as pd\n",
        "import seaborn as sns\n",
        "import matplotlib.pyplot as plt\n",
        "%matplotlib inline\n",
        "\n",
        "import warnings\n",
        "warnings.filterwarnings('ignore')\n",
        "\n"
      ],
      "execution_count": null,
      "outputs": []
    },
    {
      "cell_type": "code",
      "metadata": {
        "id": "M0KWYlKbfJQW"
      },
      "source": [
        "# Load in the train and test datasets\n",
        "car_prices = pd.read_csv('Car Prices Data.csv')"
      ],
      "execution_count": null,
      "outputs": []
    },
    {
      "cell_type": "markdown",
      "metadata": {
        "id": "UG7Ry0SSgO8B"
      },
      "source": [
        "Данный датасет взят с сайта kaggle.com.\n",
        "\n",
        "\n",
        "This dataset collected from kaggle.com.\n",
        "Special thanks to kaggle user Aditya Kumar Barik for collecting and publishing this data.\n",
        "\n",
        "#Link to the original dataset: https://www.kaggle.com/adityakrbarik/car-prices-data?select=Car+Prices+Data.csv \n",
        "\n",
        "**Описание датасета:** \n",
        "\n",
        "Этот набор данных содержит информацию о цене и других параметрах подержанных автомобилей.\n",
        "\n",
        "\n",
        "**Параметры датасета:**\n",
        "\n",
        "1. Price: Цена машины в долларах США\n",
        "2. Age: Возраст машины в месяцах\n",
        "3. KM: Пробег машины в километрах\n",
        "4. FuelType: Тип двигателя Petrol - бензиновый, Diesel - дизельный, CNG - на природном газе\n",
        "5. HP: Мощность в лошадиных силах\n",
        "6. MetColor: Цвет металлик \n",
        "7. Automatic: Наличие автоматической трансмиссии или её отсутсвие \n",
        "8. CC: Размер двигателя \n",
        "9. Doors: Число дверей \n",
        "10. Weight: Вес машины \n",
        "\n"
      ]
    },
    {
      "cell_type": "code",
      "metadata": {
        "id": "yUYiE73NgBCb"
      },
      "source": [
        "car_prices.head(10)"
      ],
      "execution_count": null,
      "outputs": []
    },
    {
      "cell_type": "code",
      "metadata": {
        "id": "jtLqgUeXktph"
      },
      "source": [
        "car_prices.info()"
      ],
      "execution_count": null,
      "outputs": []
    },
    {
      "cell_type": "code",
      "metadata": {
        "id": "Eh7ONbWzX-Lj"
      },
      "source": [
        "borrowers = car_prices['FuelType'].value_counts()\n",
        "\n",
        "plot = borrowers.plot.pie(fontsize=16, autopct='%1.0f%%', labeldistance=1.2, radius=2)"
      ],
      "execution_count": null,
      "outputs": []
    },
    {
      "cell_type": "code",
      "metadata": {
        "id": "9AUenRUIcFBS"
      },
      "source": [
        "sectors = car_prices['FuelType'].value_counts()\n",
        "\n",
        "plt.figure(figsize=(20,10))\n",
        "plt.title(\"Cоотношение типов двигателей\", fontsize=16)\n",
        "\n",
        "plt.tick_params(labelsize=15)\n",
        "\n",
        "sns.barplot(y=sectors.index, x=sectors.values, alpha=0.6)\n",
        "plt.show()"
      ],
      "execution_count": null,
      "outputs": []
    },
    {
      "cell_type": "code",
      "metadata": {
        "id": "ta15u4SEckmW"
      },
      "source": [
        "plt.figure(figsize=(20,10))\n",
        "plt.title(\"Распределение цены автомобилей\", fontsize=16)\n",
        "plt.tick_params(labelsize=14)\n",
        "\n",
        "sns.distplot(car_prices['Price'], axlabel=False)\n",
        "plt.show()"
      ],
      "execution_count": null,
      "outputs": []
    },
    {
      "cell_type": "code",
      "metadata": {
        "id": "Invpz85dl4os"
      },
      "source": [
        "#Проверяем датасет на пропущенные значения\n",
        "car_prices.isnull().sum()\n",
        "#Перед дальнейшим анализом данных необходимо от них избавиться\n"
      ],
      "execution_count": null,
      "outputs": []
    },
    {
      "cell_type": "code",
      "metadata": {
        "id": "VNPFa37enaX6"
      },
      "source": [
        "nan_rows = car_prices[car_prices.isnull().T.any().T]\n",
        "nan_rows"
      ],
      "execution_count": null,
      "outputs": []
    },
    {
      "cell_type": "code",
      "metadata": {
        "id": "k97FQ11kpKHZ"
      },
      "source": [
        "car_prices.dropna(subset=['FuelType'],inplace=True)"
      ],
      "execution_count": null,
      "outputs": []
    },
    {
      "cell_type": "code",
      "metadata": {
        "id": "0KT9TlrfqkUy"
      },
      "source": [
        "car_prices['Age'].fillna(car_prices['Age'].median(), inplace = True)"
      ],
      "execution_count": null,
      "outputs": []
    },
    {
      "cell_type": "code",
      "metadata": {
        "id": "9tuh2AoorrD9"
      },
      "source": [
        "car_prices['Weight'].fillna(car_prices['Weight'].median(), inplace = True)"
      ],
      "execution_count": null,
      "outputs": []
    },
    {
      "cell_type": "code",
      "metadata": {
        "id": "3e8LS7Cvrwhk"
      },
      "source": [
        "car_prices['CC'].fillna(car_prices['CC'].median(), inplace = True)\n",
        "#Я решил"
      ],
      "execution_count": null,
      "outputs": []
    },
    {
      "cell_type": "code",
      "metadata": {
        "id": "rZGfpkOhsgAC"
      },
      "source": [
        "car_prices.isnull().sum()"
      ],
      "execution_count": null,
      "outputs": []
    },
    {
      "cell_type": "code",
      "metadata": {
        "id": "k_g9gZTCsh-f"
      },
      "source": [
        "car_prices['FuelType'].replace('Petrol', 0,inplace=True) \n",
        "car_prices['FuelType'].replace('Diesel', 1,inplace=True)\n",
        "car_prices['FuelType'].replace('CNG', 2,inplace=True)"
      ],
      "execution_count": null,
      "outputs": []
    },
    {
      "cell_type": "code",
      "metadata": {
        "id": "SW1BjuBis6nB"
      },
      "source": [
        "car_prices.head(10)"
      ],
      "execution_count": null,
      "outputs": []
    },
    {
      "cell_type": "code",
      "metadata": {
        "id": "Sn97aKcgtAw9"
      },
      "source": [
        "colormap = plt.cm.viridis\n",
        "plt.figure(figsize=(14,12))\n",
        "plt.title('Матрица корелляции фичей', y=1.05, size=15)\n",
        "sns.heatmap(car_prices.astype(float).corr(),linewidths=0.1,vmax=1.0, \n",
        "            square=True, cmap=colormap, linecolor='white', annot=True)"
      ],
      "execution_count": null,
      "outputs": []
    },
    {
      "cell_type": "code",
      "metadata": {
        "id": "F0NQAIqhEnaO"
      },
      "source": [
        "#На цену негативно влияют возраст, пробег, а позитивно мощность двигателя и вес"
      ],
      "execution_count": null,
      "outputs": []
    },
    {
      "cell_type": "code",
      "metadata": {
        "id": "pE79yaGU1eAI"
      },
      "source": [
        "features = car_prices.drop(['Price'], axis=1)"
      ],
      "execution_count": null,
      "outputs": []
    },
    {
      "cell_type": "code",
      "metadata": {
        "id": "KOWJS0cF5xHw"
      },
      "source": [
        "target = car_prices['Price']"
      ],
      "execution_count": null,
      "outputs": []
    },
    {
      "cell_type": "code",
      "metadata": {
        "id": "tTcZfDS954di"
      },
      "source": [
        "colormap = plt.cm.RdBu\n",
        "plt.figure(figsize=(14,12))\n",
        "plt.title('Матрица корелляции фичей', y=1.05, size=15)\n",
        "sns.heatmap(features.astype(float).corr(),linewidths=0.1,vmax=1.0, \n",
        "            square=True, cmap=colormap, linecolor='white', annot=True)"
      ],
      "execution_count": null,
      "outputs": []
    },
    {
      "cell_type": "code",
      "metadata": {
        "id": "we7wd-rQAyOw"
      },
      "source": [
        "from sklearn.model_selection import train_test_split"
      ],
      "execution_count": null,
      "outputs": []
    },
    {
      "cell_type": "code",
      "metadata": {
        "id": "BDyKDN9uAyO0"
      },
      "source": [
        "x_train, x_test, y_train, y_test = train_test_split(features, target, test_size=0.25, random_state=17)"
      ],
      "execution_count": null,
      "outputs": []
    },
    {
      "cell_type": "code",
      "metadata": {
        "id": "11Nn0qHJf0Za"
      },
      "source": [
        "from sklearn.preprocessing import StandardScaler\n",
        "from sklearn.linear_model import LinearRegression\n",
        "from sklearn.metrics import mean_squared_error"
      ],
      "execution_count": null,
      "outputs": []
    },
    {
      "cell_type": "code",
      "metadata": {
        "id": "qnMcKUj_eoI4"
      },
      "source": [
        "model = LinearRegression().fit(x_train, y_train)\n",
        "#print(\"Коэффициенты, вычисленные моделью sklearn \\n%s\" % ndprint(model.coef_))\n",
        "\n",
        "y_pred = model.predict(x_test)\n",
        "error = mean_squared_error(y_test, y_pred)\n",
        "print (error)"
      ],
      "execution_count": null,
      "outputs": []
    },
    {
      "cell_type": "code",
      "metadata": {
        "id": "pnjeTfoRgenJ"
      },
      "source": [
        "from sklearn.linear_model import Ridge, Lasso"
      ],
      "execution_count": null,
      "outputs": []
    },
    {
      "cell_type": "code",
      "metadata": {
        "id": "wUlyGR7XhtiS"
      },
      "source": [
        "from sklearn.linear_model import SGDRegressor\n",
        "from sklearn.metrics import mean_squared_error\n",
        "from scipy.spatial import distance"
      ],
      "execution_count": null,
      "outputs": []
    },
    {
      "cell_type": "code",
      "metadata": {
        "id": "YNsdQFjPhDEy"
      },
      "source": [
        "X = features\n",
        "y = target.values\n",
        "X_train, X_valid, y_train, y_valid = train_test_split(X, y, test_size=0.2, random_state=17)\n",
        "model = Lasso(alpha=0.8).fit(X_train, y_train)\n",
        "y_pred = model.predict(X_valid)\n",
        "y_pred_train = model.predict(X_train)\n",
        "error_valid = mean_squared_error(y_valid, y_pred)\n",
        "error_train = mean_squared_error(y_train, y_pred_train)\n",
        "\n",
        "\n",
        "print(\"Качество на валидации: %.3f\" % mean_squared_error(y_valid, y_pred))\n",
        "print(\"Качество на обучении: %.3f\" % mean_squared_error(y_train, y_pred_train))"
      ],
      "execution_count": null,
      "outputs": []
    }
  ]
}